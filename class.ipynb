import pandas as pd
# Reflect Tables into SQLAlchemy ORM
# Python SQL toolkit and Object Relational Mapper
import sqlalchemy
from sqlalchemy.ext.automap import automap_base
from sqlalchemy.orm import Session
from sqlalchemy import create_engine, func
#
census_database_path = "..Resources/Census_Data.sqlite"
engine = create_engine("sqlite:///{census_database_path}")
conn = engine.connect()
#query all records in the census table
census_data = pd.read.sql("SELECT * FROM Census_data",conn)

# overwrites the prior enbine
zip_database_path = "../Resources/zip_census.sqlite"
engine = create_engine(f"sqlite:///{zip_database_path}")
conn = engine.connect()

zip_data = pd.read_sql("SELECT * FROM Zip_Census",conn)

census_data.head()
zip_data.head()

combined_data = pd.merge(census_data, zip_data, on="CityState", how-"inner")

combined_data.head()




# reflect an existing database into a new model
Base = automap_base()
# reflect the tables
Base.prepare(engine, reflect=True)
# We can view all of the classes that automap found
Base.classes.keys()

